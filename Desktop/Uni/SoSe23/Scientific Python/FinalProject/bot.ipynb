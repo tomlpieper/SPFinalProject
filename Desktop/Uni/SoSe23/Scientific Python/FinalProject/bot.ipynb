{
 "cells": [
  {
   "cell_type": "code",
   "execution_count": 71,
   "metadata": {},
   "outputs": [],
   "source": [
    "import os\n",
    "\n",
    "import telebot\n",
    "\n",
    "BOT_TOKEN = '6621867212:AAEK9MPsdcH7iYw0guYYtHZJ1cdo_EcJBk8'\n",
    "\n"
   ]
  },
  {
   "cell_type": "code",
   "execution_count": 72,
   "metadata": {},
   "outputs": [],
   "source": [
    "@bot.message_handler(commands=['start', 'hello'])\n",
    "def send_welcome(message):\n",
    "    bot.reply_to(message, \"Howdy, how are you doing?\")\n",
    "\n",
    "# @bot.message_handler(func=lambda msg: True)\n",
    "# def echo_all(message):\n",
    "#     text = 'I don\\'t know the command:' + message.text\n",
    "#     bot.reply_to(message, text)\n"
   ]
  },
  {
   "cell_type": "code",
   "execution_count": 73,
   "metadata": {},
   "outputs": [],
   "source": [
    "# @bot.message_handler(commands=['horoscope'])\n",
    "# def sign_handler(message):\n",
    "#     text = \"What's your zodiac sign?\\nChoose one: *Aries*, *Taurus*, *Gemini*, *Cancer,* *Leo*, *Virgo*, *Libra*, *Scorpio*, *Sagittarius*, *Capricorn*, *Aquarius*, and *Pisces*.\"\n",
    "#     sent_msg = bot.send_message(message.chat.id, text, parse_mode=\"Markdown\")\n",
    "#     bot.register_next_step_handler(sent_msg, day_handler)\n",
    "\n",
    "from telebot import types\n",
    "@bot.message_handler(commands=['horoscope'])\n",
    "def sign_handler(message):\n",
    "    signs = [\"Aries\", \"Taurus\", \"Gemini\", \"Cancer\", \"Leo\", \"Virgo\", \"Libra\", \"Scorpio\", \"Sagittarius\", \"Capricorn\", \"Aquarius\", \"Pisces\"]\n",
    "    keyboard = types.ReplyKeyboardMarkup(row_width=3)  # create keyboard, set row_width to your liking\n",
    "    buttons = [types.KeyboardButton(sign) for sign in signs]  # create a button for each sign\n",
    "    keyboard.add(*buttons)  # add all buttons to the keyboard\n",
    "    bot.send_message(message.chat.id, \"What's your zodiac sign?\", reply_markup=keyboard)\n",
    "    bot.register_next_step_handler(message, day_handler)\n",
    "\n",
    "\n",
    "def day_handler(message):\n",
    "    sign = message.text\n",
    "    days = [\"TODAY\", \"TOMORROW\", \"YESTERDAY\"]\n",
    "    keyboard = types.ReplyKeyboardMarkup(row_width=1)  # create keyboard, set row_width to your liking\n",
    "    buttons = [types.KeyboardButton(day) for day in days]  # create a button for each day\n",
    "    keyboard.add(*buttons)  # add all buttons to the keyboard\n",
    "    sent_msg = bot.send_message(message.chat.id, \"What day do you want to know?\", reply_markup=keyboard)\n",
    "    bot.register_next_step_handler(sent_msg, fetch_horoscope, sign.capitalize())\n",
    "\n"
   ]
  },
  {
   "cell_type": "code",
   "execution_count": 74,
   "metadata": {},
   "outputs": [],
   "source": [
    "\n",
    "\n",
    "\n",
    "\n",
    "from telebot import types\n",
    "\n",
    "def fetch_horoscope(message, sign):\n",
    "    day = message.text\n",
    "    horoscope = get_daily_horoscope(sign, day)\n",
    "    data = horoscope[\"data\"]\n",
    "    horoscope_message = f'*Horoscope:* {data[\"horoscope_data\"]}\\\\n*Sign:* {sign}\\\\n*Day:* {data[\"date\"]}'\n",
    "    bot.send_message(message.chat.id, \"Here's your horoscope!\")\n",
    "    markup = types.ReplyKeyboardRemove(selective=False)\n",
    "    bot.send_message(message.chat.id, horoscope_message, parse_mode=\"Markdown\", reply_markup=markup)\n"
   ]
  },
  {
   "cell_type": "code",
   "execution_count": 75,
   "metadata": {},
   "outputs": [],
   "source": [
    "import requests\n",
    "\n",
    "def get_daily_horoscope(sign: str, day: str) -> dict:\n",
    "    \"\"\"Get daily horoscope for a zodiac sign.\n",
    "    Keyword arguments:\n",
    "    sign:str - Zodiac sign\n",
    "    day:str - Date in format (YYYY-MM-DD) OR TODAY OR TOMORROW OR YESTERDAY\n",
    "    Return:dict - JSON data\n",
    "    \"\"\"\n",
    "    url = \"https://horoscope-app-api.vercel.app/api/v1/get-horoscope/daily\"\n",
    "    params = {\"sign\": sign, \"day\": day}\n",
    "    response = requests.get(url, params)\n",
    "\n",
    "    return response.json()"
   ]
  },
  {
   "cell_type": "code",
   "execution_count": 76,
   "metadata": {},
   "outputs": [
    {
     "name": "stderr",
     "output_type": "stream",
     "text": [
      "2023-08-02 22:25:17,226 (__init__.py:966 MainThread) ERROR - TeleBot: \"Infinity polling: polling exited\"\n",
      "2023-08-02 22:25:17,227 (__init__.py:968 MainThread) ERROR - TeleBot: \"Break infinity polling\"\n"
     ]
    }
   ],
   "source": [
    "bot.infinity_polling()"
   ]
  },
  {
   "cell_type": "code",
   "execution_count": null,
   "metadata": {},
   "outputs": [],
   "source": []
  }
 ],
 "metadata": {
  "kernelspec": {
   "display_name": "ann",
   "language": "python",
   "name": "python3"
  },
  "language_info": {
   "codemirror_mode": {
    "name": "ipython",
    "version": 3
   },
   "file_extension": ".py",
   "mimetype": "text/x-python",
   "name": "python",
   "nbconvert_exporter": "python",
   "pygments_lexer": "ipython3",
   "version": "3.9.7"
  },
  "orig_nbformat": 4
 },
 "nbformat": 4,
 "nbformat_minor": 2
}
